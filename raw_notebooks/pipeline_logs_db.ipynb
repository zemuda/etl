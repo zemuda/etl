{
 "cells": [
  {
   "cell_type": "code",
   "execution_count": 2,
   "id": "81ae9be0",
   "metadata": {},
   "outputs": [],
   "source": [
    "import duckdb\n",
    "import os\n",
    "import dask as dd\n",
    "import pandas as pd"
   ]
  },
  {
   "cell_type": "code",
   "execution_count": 3,
   "id": "0adfa8b8",
   "metadata": {},
   "outputs": [
    {
     "data": {
      "text/plain": [
       "[('pipeline_logs',), ('processing_stats',)]"
      ]
     },
     "execution_count": 3,
     "metadata": {},
     "output_type": "execute_result"
    }
   ],
   "source": [
    "con = duckdb.connect(database=\"pipeline_logs.db\")\n",
    "schemas = con.execute(\"SHOW TABLES\").fetchall()\n",
    "schemas\n",
    "# TODO: VERIFY THAT [('pipeline_logs',), ('processing_stats',)] TABLES EXIST IF TEST IS TO PASS GOING FORWARD "
   ]
  },
  {
   "cell_type": "code",
   "execution_count": 4,
   "id": "5ae07bd4",
   "metadata": {},
   "outputs": [],
   "source": [
    "# disconnect from the database\n",
    "con.close()"
   ]
  },
  {
   "cell_type": "code",
   "execution_count": null,
   "id": "8bea62b5",
   "metadata": {},
   "outputs": [],
   "source": []
  },
  {
   "cell_type": "code",
   "execution_count": 3,
   "id": "c5d5afe5",
   "metadata": {},
   "outputs": [
    {
     "data": {
      "text/html": [
       "<div>\n",
       "<style scoped>\n",
       "    .dataframe tbody tr th:only-of-type {\n",
       "        vertical-align: middle;\n",
       "    }\n",
       "\n",
       "    .dataframe tbody tr th {\n",
       "        vertical-align: top;\n",
       "    }\n",
       "\n",
       "    .dataframe thead th {\n",
       "        text-align: right;\n",
       "    }\n",
       "</style>\n",
       "<table border=\"1\" class=\"dataframe\">\n",
       "  <thead>\n",
       "    <tr style=\"text-align: right;\">\n",
       "      <th></th>\n",
       "      <th>log_id</th>\n",
       "      <th>timestamp</th>\n",
       "      <th>level</th>\n",
       "      <th>logger_name</th>\n",
       "      <th>message</th>\n",
       "      <th>file_path</th>\n",
       "      <th>sheet_name</th>\n",
       "      <th>operation_type</th>\n",
       "      <th>duration_ms</th>\n",
       "      <th>rows_processed</th>\n",
       "      <th>success</th>\n",
       "      <th>error_message</th>\n",
       "    </tr>\n",
       "  </thead>\n",
       "  <tbody>\n",
       "    <tr>\n",
       "      <th>0</th>\n",
       "      <td>4f2ad931-ee27-42cf-8b60-26330a877279</td>\n",
       "      <td>2025-09-18 16:45:40.908650</td>\n",
       "      <td>DEBUG</td>\n",
       "      <td>__main__</td>\n",
       "      <td>Counted 17567 rows in sheet 'nextech'</td>\n",
       "      <td>C:\\etl\\data\\input\\sales\\cash_invoices\\summariz...</td>\n",
       "      <td>nextech</td>\n",
       "      <td>row_counting</td>\n",
       "      <td>&lt;NA&gt;</td>\n",
       "      <td>17567</td>\n",
       "      <td>&lt;NA&gt;</td>\n",
       "      <td>None</td>\n",
       "    </tr>\n",
       "    <tr>\n",
       "      <th>1</th>\n",
       "      <td>ead211e9-e6fc-4121-8792-e82edbbcdea4</td>\n",
       "      <td>2025-09-18 16:45:43.919689</td>\n",
       "      <td>INFO</td>\n",
       "      <td>__main__</td>\n",
       "      <td>Converted sheet to Parquet</td>\n",
       "      <td>C:\\etl\\data\\input\\sales\\cash_invoices\\summariz...</td>\n",
       "      <td>nextech</td>\n",
       "      <td>sheet_conversion</td>\n",
       "      <td>1917</td>\n",
       "      <td>17567</td>\n",
       "      <td>True</td>\n",
       "      <td>None</td>\n",
       "    </tr>\n",
       "    <tr>\n",
       "      <th>2</th>\n",
       "      <td>204b0eb4-0790-4e34-8a95-81ed5933ef87</td>\n",
       "      <td>2025-09-18 16:45:43.976616</td>\n",
       "      <td>INFO</td>\n",
       "      <td>__main__</td>\n",
       "      <td>Successfully processed Excel file</td>\n",
       "      <td>C:\\etl\\data\\input\\sales\\cash_invoices\\summariz...</td>\n",
       "      <td>None</td>\n",
       "      <td>file_processing_complete</td>\n",
       "      <td>&lt;NA&gt;</td>\n",
       "      <td>17567</td>\n",
       "      <td>True</td>\n",
       "      <td>None</td>\n",
       "    </tr>\n",
       "    <tr>\n",
       "      <th>3</th>\n",
       "      <td>0ac16732-9071-46ae-b0ba-04b8c4cf68ff</td>\n",
       "      <td>2025-09-18 16:45:46.270748</td>\n",
       "      <td>DEBUG</td>\n",
       "      <td>__main__</td>\n",
       "      <td>Counted 19028 rows in sheet 'nextech'</td>\n",
       "      <td>C:\\etl\\data\\input\\sales\\cash_invoices\\summariz...</td>\n",
       "      <td>nextech</td>\n",
       "      <td>row_counting</td>\n",
       "      <td>&lt;NA&gt;</td>\n",
       "      <td>19028</td>\n",
       "      <td>&lt;NA&gt;</td>\n",
       "      <td>None</td>\n",
       "    </tr>\n",
       "    <tr>\n",
       "      <th>4</th>\n",
       "      <td>0cedf54d-5a22-450d-9bac-1e18cd8f02eb</td>\n",
       "      <td>2025-09-18 16:45:49.012006</td>\n",
       "      <td>INFO</td>\n",
       "      <td>__main__</td>\n",
       "      <td>Converted sheet to Parquet</td>\n",
       "      <td>C:\\etl\\data\\input\\sales\\cash_invoices\\summariz...</td>\n",
       "      <td>nextech</td>\n",
       "      <td>sheet_conversion</td>\n",
       "      <td>1663</td>\n",
       "      <td>19028</td>\n",
       "      <td>True</td>\n",
       "      <td>None</td>\n",
       "    </tr>\n",
       "  </tbody>\n",
       "</table>\n",
       "</div>"
      ],
      "text/plain": [
       "                                 log_id                  timestamp  level  \\\n",
       "0  4f2ad931-ee27-42cf-8b60-26330a877279 2025-09-18 16:45:40.908650  DEBUG   \n",
       "1  ead211e9-e6fc-4121-8792-e82edbbcdea4 2025-09-18 16:45:43.919689   INFO   \n",
       "2  204b0eb4-0790-4e34-8a95-81ed5933ef87 2025-09-18 16:45:43.976616   INFO   \n",
       "3  0ac16732-9071-46ae-b0ba-04b8c4cf68ff 2025-09-18 16:45:46.270748  DEBUG   \n",
       "4  0cedf54d-5a22-450d-9bac-1e18cd8f02eb 2025-09-18 16:45:49.012006   INFO   \n",
       "\n",
       "  logger_name                                message  \\\n",
       "0    __main__  Counted 17567 rows in sheet 'nextech'   \n",
       "1    __main__             Converted sheet to Parquet   \n",
       "2    __main__      Successfully processed Excel file   \n",
       "3    __main__  Counted 19028 rows in sheet 'nextech'   \n",
       "4    __main__             Converted sheet to Parquet   \n",
       "\n",
       "                                           file_path sheet_name  \\\n",
       "0  C:\\etl\\data\\input\\sales\\cash_invoices\\summariz...    nextech   \n",
       "1  C:\\etl\\data\\input\\sales\\cash_invoices\\summariz...    nextech   \n",
       "2  C:\\etl\\data\\input\\sales\\cash_invoices\\summariz...       None   \n",
       "3  C:\\etl\\data\\input\\sales\\cash_invoices\\summariz...    nextech   \n",
       "4  C:\\etl\\data\\input\\sales\\cash_invoices\\summariz...    nextech   \n",
       "\n",
       "             operation_type  duration_ms  rows_processed  success  \\\n",
       "0              row_counting         <NA>           17567     <NA>   \n",
       "1          sheet_conversion         1917           17567     True   \n",
       "2  file_processing_complete         <NA>           17567     True   \n",
       "3              row_counting         <NA>           19028     <NA>   \n",
       "4          sheet_conversion         1663           19028     True   \n",
       "\n",
       "  error_message  \n",
       "0          None  \n",
       "1          None  \n",
       "2          None  \n",
       "3          None  \n",
       "4          None  "
      ]
     },
     "execution_count": 3,
     "metadata": {},
     "output_type": "execute_result"
    }
   ],
   "source": [
    "pipeline_logs_table = con.execute(\"SELECT * FROM pipeline_logs\").fetchdf()\n",
    "pipeline_logs_table.head()"
   ]
  },
  {
   "cell_type": "code",
   "execution_count": null,
   "id": "689e8bc9",
   "metadata": {},
   "outputs": [
    {
     "data": {
      "text/html": [
       "<div>\n",
       "<style scoped>\n",
       "    .dataframe tbody tr th:only-of-type {\n",
       "        vertical-align: middle;\n",
       "    }\n",
       "\n",
       "    .dataframe tbody tr th {\n",
       "        vertical-align: top;\n",
       "    }\n",
       "\n",
       "    .dataframe thead th {\n",
       "        text-align: right;\n",
       "    }\n",
       "</style>\n",
       "<table border=\"1\" class=\"dataframe\">\n",
       "  <thead>\n",
       "    <tr style=\"text-align: right;\">\n",
       "      <th></th>\n",
       "      <th>run_id</th>\n",
       "      <th>start_time</th>\n",
       "      <th>end_time</th>\n",
       "      <th>total_files</th>\n",
       "      <th>total_sheets</th>\n",
       "      <th>total_excel_rows</th>\n",
       "      <th>total_parquet_rows</th>\n",
       "      <th>total_duration_ms</th>\n",
       "      <th>success_count</th>\n",
       "      <th>failure_count</th>\n",
       "      <th>files_with_row_mismatch</th>\n",
       "      <th>total_row_difference</th>\n",
       "    </tr>\n",
       "  </thead>\n",
       "  <tbody>\n",
       "    <tr>\n",
       "      <th>0</th>\n",
       "      <td>3f9d1c15-1b8b-477d-95b8-b1138148bac0</td>\n",
       "      <td>2025-09-18 16:45:38.526417</td>\n",
       "      <td>2025-09-18 16:48:05.065702</td>\n",
       "      <td>11</td>\n",
       "      <td>11</td>\n",
       "      <td>371619</td>\n",
       "      <td>371619</td>\n",
       "      <td>146539</td>\n",
       "      <td>11</td>\n",
       "      <td>0</td>\n",
       "      <td>0</td>\n",
       "      <td>0</td>\n",
       "    </tr>\n",
       "  </tbody>\n",
       "</table>\n",
       "</div>"
      ],
      "text/plain": [
       "                                 run_id                 start_time  \\\n",
       "0  3f9d1c15-1b8b-477d-95b8-b1138148bac0 2025-09-18 16:45:38.526417   \n",
       "\n",
       "                    end_time  total_files  total_sheets  total_excel_rows  \\\n",
       "0 2025-09-18 16:48:05.065702           11            11            371619   \n",
       "\n",
       "   total_parquet_rows  total_duration_ms  success_count  failure_count  \\\n",
       "0              371619             146539             11              0   \n",
       "\n",
       "   files_with_row_mismatch  total_row_difference  \n",
       "0                        0                     0  "
      ]
     },
     "execution_count": 4,
     "metadata": {},
     "output_type": "execute_result"
    }
   ],
   "source": [
    "processing_stats_table = con.execute(\"SELECT * FROM processing_stats\").fetchdf()\n",
    "processing_stats_table\n",
    "# TODO: VERIFY THAT THE processing_stats_table HAS THE EXPECTED COLUMNS IF TEST IS TO PASS GOING FORWARD\n",
    "# total_files\ttotal_sheets\ttotal_excel_rows\ttotal_parquet_rows\ttotal_duration_ms\tsuccess_count\tfailure_count\tfiles_with_row_mismatch\ttotal_row_difference\n",
    "# MAKE SURE total_files, total_sheets, success_count ARE EQUAL\n",
    "# MAKE SURE failure_count IS 0\n",
    "# MAKE SURE files_with_row_mismatch IS 0\n",
    "# MAKE SURE total_row_difference IS 0\n",
    "# MAKE SURE total_excel_rows, total_parquet_rows ARE EQUAL"
   ]
  },
  {
   "cell_type": "code",
   "execution_count": null,
   "id": "272ed3e0",
   "metadata": {},
   "outputs": [],
   "source": [
    "row_count = con.execute(\"SELECT COUNT(*) FROM processing_stats\").fetchone()[0]\n",
    "row_count"
   ]
  },
  {
   "cell_type": "code",
   "execution_count": null,
   "id": "194c0471",
   "metadata": {},
   "outputs": [
    {
     "data": {
      "text/plain": [
       "[{'file': 'detci_01_05_january_2025.xls',\n",
       "  'sheet': 'nextech',\n",
       "  'sheet_count': 1,\n",
       "  'column_count': 31,\n",
       "  'row_count': 45226},\n",
       " {'file': 'detci_06_08_january_2025.xls',\n",
       "  'sheet': 'nextech',\n",
       "  'sheet_count': 1,\n",
       "  'column_count': 31,\n",
       "  'row_count': 42422},\n",
       " {'file': 'detci_09_11_january_2025.xls',\n",
       "  'sheet': 'nextech',\n",
       "  'sheet_count': 1,\n",
       "  'column_count': 31,\n",
       "  'row_count': 36947},\n",
       " {'file': 'detci_12_15_january_2025.xls',\n",
       "  'sheet': 'nextech',\n",
       "  'sheet_count': 1,\n",
       "  'column_count': 31,\n",
       "  'row_count': 36499},\n",
       " {'file': 'detci_16_18_january_2025.xls',\n",
       "  'sheet': 'nextech',\n",
       "  'sheet_count': 1,\n",
       "  'column_count': 31,\n",
       "  'row_count': 35982},\n",
       " {'file': 'detci_19_22_january_2025.xls',\n",
       "  'sheet': 'nextech',\n",
       "  'sheet_count': 1,\n",
       "  'column_count': 31,\n",
       "  'row_count': 39830},\n",
       " {'file': 'detci_23_25_january_2025.xls',\n",
       "  'sheet': 'nextech',\n",
       "  'sheet_count': 1,\n",
       "  'column_count': 31,\n",
       "  'row_count': 35111},\n",
       " {'file': 'detci_27_29_january_2025.xls',\n",
       "  'sheet': 'nextech',\n",
       "  'sheet_count': 1,\n",
       "  'column_count': 31,\n",
       "  'row_count': 40235},\n",
       " {'file': 'detci_30_31_january_2025.xls',\n",
       "  'sheet': 'nextech',\n",
       "  'sheet_count': 1,\n",
       "  'column_count': 31,\n",
       "  'row_count': 22772}]"
      ]
     },
     "execution_count": 18,
     "metadata": {},
     "output_type": "execute_result"
    }
   ],
   "source": [
    "# TODO: MANUALLY VERIFY THAT THE ROW COUNT IS AS EXPECTED IF TEST IS TO PASS GOING FORWARD\n",
    "import os\n",
    "import pandas as pd\n",
    "import dask.dataframe as dd\n",
    "\n",
    "folder = r\"C:\\etl\\data\\input\\sales\\cash_invoices\\detailed\\2025\\january\"\n",
    "files = [os.path.join(folder, f) for f in os.listdir(folder) if f.endswith('.xls')]\n",
    "\n",
    "excel_results = []\n",
    "for file in files:\n",
    "    xls = pd.ExcelFile(file)\n",
    "    sheet_count = len(xls.sheet_names)\n",
    "    for sheet in xls.sheet_names:\n",
    "        df = dd.from_pandas(pd.read_excel(file, sheet_name=sheet, header=0), npartitions=1)\n",
    "        col_count = len(df.columns)\n",
    "        row_count = df.shape[0].compute()\n",
    "        excel_results.append({\n",
    "            'file': os.path.basename(file),\n",
    "            'sheet': sheet,\n",
    "            'sheet_count': sheet_count,\n",
    "            'column_count': col_count,\n",
    "            'row_count': row_count\n",
    "        })\n",
    "\n",
    "excel_results"
   ]
  },
  {
   "cell_type": "code",
   "execution_count": null,
   "id": "65ba3110",
   "metadata": {},
   "outputs": [],
   "source": [
    "# TODO: make sure the number of rows read from excel matches the number of rows written to parquet and logged in the database"
   ]
  },
  {
   "cell_type": "code",
   "execution_count": 6,
   "id": "7ee2fc72",
   "metadata": {},
   "outputs": [
    {
     "data": {
      "text/plain": [
       "[('bronze_sales_cash_invoices_detailed',),\n",
       " ('bronze_sales_cash_invoices_summarized',)]"
      ]
     },
     "execution_count": 6,
     "metadata": {},
     "output_type": "execute_result"
    }
   ],
   "source": [
    "# get C:\\etl\\duckdb\\bronze_layer.db tables\n",
    "con2 = duckdb.connect(database=\"duckdb/bronze_layer.db\")\n",
    "schemas = con2.execute(\"SHOW TABLES\").fetchall()\n",
    "schemas\n"
   ]
  },
  {
   "cell_type": "code",
   "execution_count": 7,
   "id": "bb4e2e6a",
   "metadata": {},
   "outputs": [],
   "source": [
    "# check for negative values in the bronze_sales_cash_invoices_detailed\n",
    "con2.close()"
   ]
  }
 ],
 "metadata": {
  "kernelspec": {
   "display_name": "venv",
   "language": "python",
   "name": "python3"
  },
  "language_info": {
   "codemirror_mode": {
    "name": "ipython",
    "version": 3
   },
   "file_extension": ".py",
   "mimetype": "text/x-python",
   "name": "python",
   "nbconvert_exporter": "python",
   "pygments_lexer": "ipython3",
   "version": "3.13.7"
  }
 },
 "nbformat": 4,
 "nbformat_minor": 5
}
