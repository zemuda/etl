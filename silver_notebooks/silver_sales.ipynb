{
 "cells": [
  {
   "cell_type": "code",
   "execution_count": 11,
   "id": "ddaf9403",
   "metadata": {},
   "outputs": [],
   "source": [
    "import pandas as pd\n",
    "import dask.dataframe as dd\n",
    "import numpy as np\n",
    "import os\n",
    "import glob\n",
    "import duckdb"
   ]
  },
  {
   "cell_type": "code",
   "execution_count": 12,
   "id": "24ae3fcd",
   "metadata": {},
   "outputs": [],
   "source": [
    "summarized_table = pd.read_parquet('data/output/sales/cash_invoices/summarized/2025/january/')\n",
    "detailed_table = pd.read_parquet('data/output/sales/cash_invoices/detailed/2025/january/')\n",
    "# detailed_excel_df = pd.read_excel(r'data\\input\\sales\\cash_invoices\\detailed\\2025\\january\\detci_30_31_january_2025.xls')\n",
    "# summarized_excel_df = pd.read_excel(r'data\\input\\sales\\cash_invoices\\summarized\\2025\\january\\sumci_01_15_january_2025.xls')"
   ]
  },
  {
   "cell_type": "code",
   "execution_count": 13,
   "id": "1fbb37fd",
   "metadata": {},
   "outputs": [
    {
     "name": "stdout",
     "output_type": "stream",
     "text": [
      "Successfully combined detailed Excel files.\n",
      "Successfully combined summarized Excel files.\n"
     ]
    }
   ],
   "source": [
    "# read all files in data/input/sales/cash_invoices/detailed/2025/january/ and data/input/sales/cash_invoices/summarized/2025/january/ into a single dataframe each\n",
    "\n",
    "# Define the paths with a glob pattern\n",
    "detailed_path = 'data/input/sales/cash_invoices/detailed/2025/january/*.xls'\n",
    "summarized_path = 'data/input/sales/cash_invoices/summarized/2025/january/*.xls'\n",
    "\n",
    "# Find all files matching the glob pattern\n",
    "detailed_files = glob.glob(detailed_path)\n",
    "summarized_files = glob.glob(summarized_path)\n",
    "\n",
    "# Create empty lists to hold the DataFrames\n",
    "detailed_dfs = []\n",
    "summarized_dfs = []\n",
    "\n",
    "# Loop through each detailed file and read it into a DataFrame\n",
    "for file in detailed_files:\n",
    "    try:\n",
    "        df = pd.read_excel(file, engine='xlrd')\n",
    "        detailed_dfs.append(df)\n",
    "    except Exception as e:\n",
    "        print(f\"Error reading {file}: {e}\")\n",
    "\n",
    "# Loop through each summarized file and read it into a DataFrame\n",
    "for file in summarized_files:\n",
    "    try:\n",
    "        df = pd.read_excel(file, engine='xlrd')\n",
    "        summarized_dfs.append(df)\n",
    "    except Exception as e:\n",
    "        print(f\"Error reading {file}: {e}\")\n",
    "\n",
    "# Concatenate all DataFrames for each category into a single DataFrame\n",
    "if detailed_dfs:\n",
    "    detailed_excel_df = pd.concat(detailed_dfs, ignore_index=True)\n",
    "    print(\"Successfully combined detailed Excel files.\")\n",
    "else:\n",
    "    print(\"No detailed files found or read.\")\n",
    "\n",
    "if summarized_dfs:\n",
    "    summarized_excel_df = pd.concat(summarized_dfs, ignore_index=True)\n",
    "    print(\"Successfully combined summarized Excel files.\")\n",
    "else:\n",
    "    print(\"No summarized files found or read.\")"
   ]
  },
  {
   "cell_type": "code",
   "execution_count": 14,
   "id": "7b8e6a8f",
   "metadata": {},
   "outputs": [
    {
     "name": "stdout",
     "output_type": "stream",
     "text": [
      "summarized_table: 2809\n",
      "detailed_table: 4106\n",
      "detailed_excel_df: 4106\n",
      "summarized_excel_df: 2809\n"
     ]
    }
   ],
   "source": [
    "# read total number of rows in summarized_table and detailed_table, detailed_excel_df and summarized_excel_df where amount <= 0\n",
    "print(f'summarized_table: {len(summarized_table[summarized_table[\"AMOUNT\"] <= 0])}')\n",
    "print(f'detailed_table: {len(detailed_table[detailed_table[\"AMOUNT\"] <= 0])}')\n",
    "print(f'detailed_excel_df: {len(detailed_excel_df[detailed_excel_df[\"AMOUNT\"] <= 0])}')\n",
    "print(f'summarized_excel_df: {len(summarized_excel_df[summarized_excel_df[\"AMOUNT\"] <= 0])}')\n"
   ]
  }
 ],
 "metadata": {
  "kernelspec": {
   "display_name": "venv",
   "language": "python",
   "name": "python3"
  },
  "language_info": {
   "codemirror_mode": {
    "name": "ipython",
    "version": 3
   },
   "file_extension": ".py",
   "mimetype": "text/x-python",
   "name": "python",
   "nbconvert_exporter": "python",
   "pygments_lexer": "ipython3",
   "version": "3.13.7"
  }
 },
 "nbformat": 4,
 "nbformat_minor": 5
}
